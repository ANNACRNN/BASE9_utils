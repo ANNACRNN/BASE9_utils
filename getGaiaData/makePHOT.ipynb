{
 "cells": [
  {
   "cell_type": "code",
   "execution_count": null,
   "id": "9aa98708",
   "metadata": {},
   "outputs": [],
   "source": [
    "import matplotlib.pyplot as plt\n",
    "import pandas as pd\n",
    "import numpy as np\n",
    "import os\n",
    "import astropy.units as units\n",
    "from astropy.coordinates import SkyCoord\n",
    "from astropy.table import Table\n",
    "from bokeh.plotting import *\n",
    "output_notebook()\n",
    "\n",
    "import hdbscan"
   ]
  },
  {
   "cell_type": "code",
   "execution_count": null,
   "id": "68da029f",
   "metadata": {},
   "outputs": [],
   "source": [
    "%load_ext autoreload\n",
    "%autoreload 2\n",
    "from getGaiaData import GaiaClusterMembers"
   ]
  },
  {
   "cell_type": "markdown",
   "id": "ac868758-3288-422a-a105-5b9b1dcdc2cc",
   "metadata": {},
   "source": [
    "## Initialize the cluster object\n",
    "set query=True if you need to query the data from Gaia or generate the adql for an OC"
   ]
  },
  {
   "cell_type": "code",
   "execution_count": null,
   "id": "447b662e",
   "metadata": {},
   "outputs": [],
   "source": [
    "Hunt = pd.read_csv('Hunt2023.tsv',sep='\\s+', header=94)\n",
    "\n",
    "def distance_modulus_to_pc(distance_modulus):\n",
    "    return 10 ** ((distance_modulus + 5) / 5)\n",
    "\n",
    "def run_pipeline(clusterName,query=False):\n",
    "    cluster = GaiaClusterMembers()\n",
    "    pwd = 'OC_data/'+clusterName+'_dir' #change this pwd as needed\n",
    "    if os.path.isdir(pwd):\n",
    "        print(\"Directory exists.\")\n",
    "    else:\n",
    "        os.makedirs(pwd)\n",
    "        os.makedirs(pwd+'/plots')\n",
    "    cluster.plotNameRoot = pwd+'/plots/'\n",
    "    cluster.photOutputFileName = pwd +'/'+clusterName + '.phot'\n",
    "    cluster.saveDataFile = pwd +'/'+clusterName + '.csv'\n",
    "    cluster.yamlOutputFileName = pwd + '/base9.yaml'\n",
    "    cluster.yamlTemplateFileName = 'template_base9.yaml'\n",
    "    \n",
    "    Hunt_data = Hunt[Hunt['Name']==clusterName]\n",
    "    cluster.rt = Hunt_data['rt'].values[0]\n",
    "    Av = round(Hunt_data['AV50'].values[0],5)\n",
    "    err_Av = round(Hunt_data['AV84'].values[0],5)\n",
    "    logAge = round(Hunt_data['logAge50'].values[0],5)\n",
    "    dmod = round(Hunt_data['MOD50'].values[0],5)\n",
    "    prior_pc = distance_modulus_to_pc(dmod)\n",
    "    err_dmod = round(Hunt_data['MOD50'].values[0]-Hunt_data['MOD16'].values[0],5)\n",
    "    start_dmod = dmod\n",
    "    start_FeH = 0\n",
    "    start_Av = Av\n",
    "    start_age = logAge\n",
    "    cluster.yamlInputDict = {\n",
    "        'photFile' : clusterName + '.phot',\n",
    "        'outputFileBase' : clusterName,\n",
    "        'modelDirectory' : '/projects/p31721/BASE9/base-models/',\n",
    "        'msRgbModel' : 5,\n",
    "        'Fe_H' : [start_FeH, 0.0, 0.3, 0.3],\n",
    "        'Av' : [start_Av, Av, err_Av, 0.3],\n",
    "        'Y' : [0.29, 0.29, 0.0], # keep the defaults\n",
    "        'carbonicity' : [0.38, 0.38, 0.0], # keep the defaults\n",
    "        'logAge' : [start_age, logAge, np.inf],\n",
    "        'distMod' : [start_dmod, dmod, err_dmod],\n",
    "    }\n",
    "    \n",
    "    if query:\n",
    "        cluster.radius = float(input(\"What radius to query from Gaia? (Deg)\"))\n",
    "        cluster.query_data(clusterName,pwd+'/'+clusterName+'_GaiaData.ecsv') #run this line to download Gaia data that will be saved to the file clusterName+'_dir/'+clusterName+'_GaiaData.ecsv'\n",
    "    else:\n",
    "        prior_pc = distance_modulus_to_pc(dmod)\n",
    "        print (\"Prior distance = \",prior_pc,\" pc\") #I show this as a check that I am looking at the right OC\n",
    "        cluster.runAll(clusterName,filename='ecsv_data/'+clusterName+'_GaiaData.ecsv') #run this line if Gaia data has already been downloaded  \n",
    "        cluster.photOutputFileName = pwd +'/'+clusterName + '_sig1.phot'\n",
    "        return cluster\n",
    "cluster = run_pipeline('NGC_188', query=False)"
   ]
  },
  {
   "cell_type": "markdown",
   "id": "e57dc24a-c26a-413e-972c-5e2b508d2c5d",
   "metadata": {},
   "source": [
    "## (optional) Save the cluster object for use later"
   ]
  },
  {
   "cell_type": "code",
   "execution_count": null,
   "id": "dba59cfb-13ee-4c75-a904-94afe0dd3ae0",
   "metadata": {},
   "outputs": [],
   "source": [
    "import pickle"
   ]
  },
  {
   "cell_type": "code",
   "execution_count": null,
   "id": "42c7125e-7313-4ccc-92f4-d3defe1649a3",
   "metadata": {},
   "outputs": [],
   "source": [
    "with open(\"cluster_save.pkl\", \"wb\") as file:\n",
    "    pickle.dump(cluster, file)"
   ]
  },
  {
   "cell_type": "markdown",
   "id": "cd37b8e5-e6f9-4da9-b65c-7f6ed5428e22",
   "metadata": {},
   "source": [
    "## (optional) Read in the cluster object "
   ]
  },
  {
   "cell_type": "code",
   "execution_count": null,
   "id": "61e00d67-8a1a-47f5-92bd-895becfce986",
   "metadata": {},
   "outputs": [],
   "source": [
    "with open(\"cluster_save.pkl\", 'rb') as file:\n",
    "    cluster = pickle.load(file)"
   ]
  },
  {
   "cell_type": "markdown",
   "id": "5f266665-84c3-4190-964d-6b0269542016",
   "metadata": {},
   "source": [
    "## Add rcenter, gaia phot errors, and convert parallax to distance to files that have been downloaded from Gaia website"
   ]
  },
  {
   "cell_type": "code",
   "execution_count": null,
   "id": "577dfe7d-2648-475f-b6f8-bcb0d52f263a",
   "metadata": {},
   "outputs": [],
   "source": [
    "def add_to_download(cluster_name):\n",
    "    df1 = pd.read_csv('../OC_data/'+cluster_name+'_dir/'+cluster_name+'-result.csv',sep=',') #Downloaded file directly from Gaia website.\n",
    "    file_path = '../OC_data/'+cluster+'_dir/'+cluster_name+'_GaiaData.ecsv' #New file to write to. Do not want to overwrite the -result.csv file.\n",
    "\n",
    "    ra = Hunt['RA_ICRS'][Hunt['Name']==cluster]\n",
    "    dec = Hunt['DE_ICRS'][Hunt['Name']==cluster]\n",
    "    center = SkyCoord(ra, dec, unit=(units.degree, units.degree))\n",
    "    sigmaG_0 = 0.0027553202\n",
    "    sigmaGBP_0 = 0.0027901700\n",
    "    sigmaGRP_0 = 0.0037793818\n",
    "    df = Table.from_pandas(df1)\n",
    "    df['phot_g_mean_mag_error'] = ((-2.5/np.log(10)/df['phot_g_mean_flux_over_error'])**2 + sigmaG_0**2)**0.5\n",
    "    df['phot_bp_mean_mag_error'] = ((-2.5/np.log(10)/df['phot_bp_mean_flux_over_error'])**2 + sigmaGBP_0**2)**0.5\n",
    "    df['phot_rp_mean_mag_error'] = ((-2.5/np.log(10)/df['phot_rp_mean_flux_over_error'])**2 + sigmaGRP_0**2)**0.5\n",
    "    \n",
    "    df['coord'] = SkyCoord(df['ra'] * units.degree, df['dec']* units.degree, frame='icrs') \n",
    "    df['rCenter'] = center.separation(df['coord'])\n",
    "    df['id'] = df['source_id']\n",
    "    df['distance'] = (df['parallax'] * units.mas).to(units.parsec, equivalencies=units.parallax()).value\n",
    "    df['distance_error'] = (df['parallax_error'] * units.mas).to(units.parsec, equivalencies=units.parallax()).value\n",
    "    df = df.to_pandas()\n",
    "    df = df.rename(columns={'source_id': 'SOURCE_ID'})\n",
    "    df.to_csv(file_path, index=False,sep=' ')\n",
    "#add_to_download('NGC_188')"
   ]
  },
  {
   "cell_type": "markdown",
   "id": "f6e44e3a-1321-4130-9d46-ab3c2dff5ee5",
   "metadata": {},
   "source": [
    "## Use the interactive isochrone tool\n",
    "Note: This tool works best in a jupyter notebook and will cause problems in VSCode"
   ]
  },
  {
   "cell_type": "code",
   "execution_count": null,
   "id": "12baf4d5-08d2-48fb-b155-36ada95565c0",
   "metadata": {},
   "outputs": [],
   "source": [
    "layout = cluster.createInteractiveIsochrone(\n",
    "    'PARSEC.model', \n",
    "    initialGuess = [\n",
    "        float(cluster.yamlInputDict['logAge'][0]), \n",
    "        float(cluster.yamlInputDict['Fe_H'][0]),\n",
    "        float(cluster.yamlInputDict['distMod'][0]),\n",
    "        float(cluster.yamlInputDict['Av'][0])\n",
    "    ],\n",
    "    mag ='phot_g_mean_mag', \n",
    "    color1 ='phot_bp_mean_mag', \n",
    "    color2 ='phot_rp_mean_mag', \n",
    "    xrng = [-4,4], \n",
    "    yrng = [24,5]\n",
    ")\n",
    "\n",
    "# in order to run a Python callback in a Jupyter notbook, you need to include the following\n",
    "def bkapp(doc):\n",
    "    doc.add_root(layout)\n",
    "    \n",
    "show(bkapp)"
   ]
  },
  {
   "cell_type": "code",
   "execution_count": null,
   "id": "5a75093d",
   "metadata": {},
   "outputs": [],
   "source": []
  }
 ],
 "metadata": {
  "kernelspec": {
   "display_name": "Python 3 (ipykernel)",
   "language": "python",
   "name": "python3"
  },
  "language_info": {
   "codemirror_mode": {
    "name": "ipython",
    "version": 3
   },
   "file_extension": ".py",
   "mimetype": "text/x-python",
   "name": "python",
   "nbconvert_exporter": "python",
   "pygments_lexer": "ipython3",
   "version": "3.10.15"
  }
 },
 "nbformat": 4,
 "nbformat_minor": 5
}
